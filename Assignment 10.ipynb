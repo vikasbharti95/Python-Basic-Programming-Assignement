{
 "cells": [
  {
   "cell_type": "markdown",
   "id": "3e3a8e82",
   "metadata": {},
   "source": [
    "## 1.Write a Python program to find sum of elements in list?"
   ]
  },
  {
   "cell_type": "code",
   "execution_count": 2,
   "id": "d62b11f3",
   "metadata": {},
   "outputs": [
    {
     "data": {
      "text/plain": [
       "'sum of element of the list is 150.0398'"
      ]
     },
     "execution_count": 2,
     "metadata": {},
     "output_type": "execute_result"
    }
   ],
   "source": [
    "def sum_ele(var):\n",
    "    if type(var) != list:\n",
    "        print(\"please enter only numerical valus list\")\n",
    "    s = 0\n",
    "    for i in var:\n",
    "        s += i\n",
    "    return (f'sum of element of the list is {s}')\n",
    "\n",
    "lis = [ 2, 45, 32.03, 36, 12.0098, 23]\n",
    "sum_ele(lis)"
   ]
  },
  {
   "cell_type": "markdown",
   "id": "28f3659e",
   "metadata": {},
   "source": [
    "## 2. Write a Python program to  Multiply all numbers in the list?"
   ]
  },
  {
   "cell_type": "code",
   "execution_count": 3,
   "id": "d98c6c17",
   "metadata": {},
   "outputs": [
    {
     "data": {
      "text/plain": [
       "'product of all elements of the list is 28665898.580880005'"
      ]
     },
     "execution_count": 3,
     "metadata": {},
     "output_type": "execute_result"
    }
   ],
   "source": [
    "def mult_ele(var):\n",
    "    if type(var) != list:\n",
    "        print('please enter a list of numerical values only ')\n",
    "    s = 1\n",
    "    for i in var:\n",
    "        s = s*i\n",
    "    return (f'product of all elements of the list is {s}')\n",
    "\n",
    "lis = [ 2, 45, 32.03, 36, 12.0098, 23]\n",
    "mult_ele(lis)"
   ]
  },
  {
   "cell_type": "markdown",
   "id": "1417e320",
   "metadata": {},
   "source": [
    "## 3. Write a Python program to find smallest number in a list?"
   ]
  },
  {
   "cell_type": "code",
   "execution_count": 32,
   "id": "ffd1d3bd",
   "metadata": {},
   "outputs": [
    {
     "data": {
      "text/plain": [
       "'smallest number in the list is 2'"
      ]
     },
     "execution_count": 32,
     "metadata": {},
     "output_type": "execute_result"
    }
   ],
   "source": [
    "def small_ele(num):\n",
    "    if type(num) != list:\n",
    "        print('please enter a list of numrical values only')\n",
    "    for i in range(len(num)):\n",
    "        for j in range(i+1, len(num)):\n",
    "            if num[i]>= num[j]:\n",
    "                num[i], num[j] = num[j], num[i]\n",
    "        return (f'smallest number in the list is {num[0]}')\n",
    "\n",
    "lis = [ 45, 43, 32.03, 2, 12.0098, 23]\n",
    "small_ele(lis)"
   ]
  },
  {
   "cell_type": "markdown",
   "id": "1db6afa0",
   "metadata": {},
   "source": [
    "## 4.Write a Python program to find largest number in a list?"
   ]
  },
  {
   "cell_type": "code",
   "execution_count": 34,
   "id": "2ab2e30c",
   "metadata": {},
   "outputs": [
    {
     "data": {
      "text/plain": [
       "'largest number in the list is 45'"
      ]
     },
     "execution_count": 34,
     "metadata": {},
     "output_type": "execute_result"
    }
   ],
   "source": [
    "def large_ele(num):\n",
    "    if type(num) != list:\n",
    "        return 'please enter a list of numerical values '\n",
    "    for i in range(len(num)):\n",
    "        for j in range(i+1, len(num)):\n",
    "            if num[i]>= num[j]:\n",
    "                num[i], num[j] = num[j], num[i]\n",
    "    return (f'largest number in the list is {num[-1]}')\n",
    "\n",
    "lis = [ 45, 43, 32.03, 2, 12.0098, 23]\n",
    "large_ele(lis)"
   ]
  },
  {
   "cell_type": "markdown",
   "id": "5cbdbb59",
   "metadata": {},
   "source": [
    "## 5. Write a Python program to find second largest number in a list?   "
   ]
  },
  {
   "cell_type": "code",
   "execution_count": 36,
   "id": "d8fc5d81",
   "metadata": {},
   "outputs": [
    {
     "data": {
      "text/plain": [
       "'second largest number in the list is 43'"
      ]
     },
     "execution_count": 36,
     "metadata": {},
     "output_type": "execute_result"
    }
   ],
   "source": [
    "def second_large(num):\n",
    "    if type(num) != list:\n",
    "        return 'please enter a list of numerical values '\n",
    "    for i in range(len(num)):\n",
    "        for j in range(i+1, len(num)):\n",
    "            if num[i]>= num[j]:\n",
    "                num[i], num[j] = num[j], num[i]\n",
    "    return (f'second largest number in the list is {num[-2]}')\n",
    "lis = [ 45, 43, 32.03, 2, 12.0098, 23]\n",
    "second_large(lis)"
   ]
  },
  {
   "cell_type": "markdown",
   "id": "950016ca",
   "metadata": {},
   "source": [
    "## 6. Write a Python program to find N largest elements from a list?"
   ]
  },
  {
   "cell_type": "code",
   "execution_count": 41,
   "id": "1ed58234",
   "metadata": {},
   "outputs": [
    {
     "name": "stdout",
     "output_type": "stream",
     "text": [
      "Enter number of largest element required: 5\n"
     ]
    },
    {
     "data": {
      "text/plain": [
       "'5 largest elements from the list is: [98, 90, 89, 87, 76]'"
      ]
     },
     "execution_count": 41,
     "metadata": {},
     "output_type": "execute_result"
    }
   ],
   "source": [
    "def desc_eles(ls):\n",
    "    num = int(input(\"Enter number of largest element required: \"))\n",
    "    data = []\n",
    "    for i in range(len(ls)):\n",
    "        for j in range(i+1, len(ls)):\n",
    "            if ls[i] <= ls[j]:\n",
    "                ls[i], ls[j] = ls[j], ls[i]\n",
    "    for i in range(num):\n",
    "        data.append(ls[i])\n",
    "    return (f'{num} largest elements from the list is: {data}')\n",
    "\n",
    "lis = [34,4,44,56,3,44,3,6,7,67,66,89,87,98,76,55,34,23,67,90,12]\n",
    "desc_eles(lis)"
   ]
  },
  {
   "cell_type": "markdown",
   "id": "4b37dc04",
   "metadata": {},
   "source": [
    "## 7. Write a Python program to print even numbers in a list?"
   ]
  },
  {
   "cell_type": "code",
   "execution_count": 44,
   "id": "a26875c1",
   "metadata": {},
   "outputs": [
    {
     "data": {
      "text/plain": [
       "'the list of even number from the given list is: [34, 4, 44, 56, 44, 6, 66, 98, 76, 34, 90, 12]'"
      ]
     },
     "execution_count": 44,
     "metadata": {},
     "output_type": "execute_result"
    }
   ],
   "source": [
    "def checkeven(var):\n",
    "    data = []\n",
    "    for i in var:\n",
    "        if i%2 == 0:\n",
    "            data.append(i)\n",
    "    return (f'the list of even number from the given list is: {data}')\n",
    "\n",
    "lis = [34,4,44,56,3,44,3,6,7,67,66,89,87,98,76,55,34,23,67,90,12]\n",
    "checkeven(lis)"
   ]
  },
  {
   "cell_type": "markdown",
   "id": "59f1ac69",
   "metadata": {},
   "source": [
    "## 8. Write a Python program to print odd numbers in a List?"
   ]
  },
  {
   "cell_type": "code",
   "execution_count": 45,
   "id": "4d31a816",
   "metadata": {},
   "outputs": [
    {
     "data": {
      "text/plain": [
       "'the list of odd number from the given lis is: [3, 3, 7, 67, 89, 87, 55, 23, 67]'"
      ]
     },
     "execution_count": 45,
     "metadata": {},
     "output_type": "execute_result"
    }
   ],
   "source": [
    "def checkodd(var):\n",
    "    data = []\n",
    "    for i in var:\n",
    "        if i%2 == 1:\n",
    "            data.append(i)\n",
    "    return (f'the list of odd number from the given lis is: {data}')\n",
    "\n",
    "lis = [34,4,44,56,3,44,3,6,7,67,66,89,87,98,76,55,34,23,67,90,12]\n",
    "checkodd(lis)"
   ]
  },
  {
   "cell_type": "markdown",
   "id": "02084e1d",
   "metadata": {},
   "source": [
    "## 9. Write a Python program to Remove empty List from List?"
   ]
  },
  {
   "cell_type": "code",
   "execution_count": 50,
   "id": "d44dbe23",
   "metadata": {},
   "outputs": [
    {
     "data": {
      "text/plain": [
       "\"list without empty list : [3, 5, 7, 34, 'vikas', 'hello', 56.04, (5+3j)]\""
      ]
     },
     "execution_count": 50,
     "metadata": {},
     "output_type": "execute_result"
    }
   ],
   "source": [
    "def remove_empty(data):\n",
    "    lis = []\n",
    "    for i in data:\n",
    "        if i != []:\n",
    "            lis.append(i)\n",
    "    return f'list without empty list : {lis}'\n",
    "\n",
    "lis1 = [3,5,7,[], 34, 'vikas', 'hello', [], 56.04, [], 5+3j]\n",
    "remove_empty(lis1)"
   ]
  },
  {
   "cell_type": "markdown",
   "id": "10194d41",
   "metadata": {},
   "source": [
    "## 10. Write a Python program to Cloning or Copying a list?"
   ]
  },
  {
   "cell_type": "code",
   "execution_count": 51,
   "id": "8f45688f",
   "metadata": {},
   "outputs": [
    {
     "data": {
      "text/plain": [
       "\"clon of the list is: [3, 5, 7, 34, 'vikas', 'hello', 56.04, (5+3j)]\""
      ]
     },
     "execution_count": 51,
     "metadata": {},
     "output_type": "execute_result"
    }
   ],
   "source": [
    "def clonlist(data):\n",
    "    clon = []\n",
    "    for i in data:\n",
    "        clon.append(i)\n",
    "    return f'clon of the list is: {clon}'\n",
    "\n",
    "lis2 = [3, 5, 7, 34, 'vikas', 'hello', 56.04, (5+3j)]\n",
    "clonlist(lis2)"
   ]
  },
  {
   "cell_type": "markdown",
   "id": "798f4c85",
   "metadata": {},
   "source": [
    "## 11. Write a Python program to Count occurrences of an element in a list?"
   ]
  },
  {
   "cell_type": "code",
   "execution_count": 55,
   "id": "87ca1565",
   "metadata": {},
   "outputs": [
    {
     "data": {
      "text/plain": [
       "'total occurances of 44 in the list [34, 4, 44, 44, 3, 44, 3, 6, 7, 67, 66, 89, 87, 98, 76, 55, 44, 23, 67, 90, 44] is: 5'"
      ]
     },
     "execution_count": 55,
     "metadata": {},
     "output_type": "execute_result"
    }
   ],
   "source": [
    "def checkoccurences(data, ele):\n",
    "    d = 0\n",
    "    for i in range(len(data)):\n",
    "        if ele == data[i]:\n",
    "            d += 1\n",
    "    return f'total occurances of {ele} in the list {data} is: {d}'\n",
    "\n",
    "lis3 = [34,4,44,44,3,44,3,6,7,67,66,89,87,98,76,55,44,23,67,90,44]\n",
    "checkoccurences(lis3, 44)"
   ]
  },
  {
   "cell_type": "code",
   "execution_count": null,
   "id": "51446427",
   "metadata": {},
   "outputs": [],
   "source": []
  }
 ],
 "metadata": {
  "kernelspec": {
   "display_name": "Python 3 (ipykernel)",
   "language": "python",
   "name": "python3"
  },
  "language_info": {
   "codemirror_mode": {
    "name": "ipython",
    "version": 3
   },
   "file_extension": ".py",
   "mimetype": "text/x-python",
   "name": "python",
   "nbconvert_exporter": "python",
   "pygments_lexer": "ipython3",
   "version": "3.9.7"
  }
 },
 "nbformat": 4,
 "nbformat_minor": 5
}
