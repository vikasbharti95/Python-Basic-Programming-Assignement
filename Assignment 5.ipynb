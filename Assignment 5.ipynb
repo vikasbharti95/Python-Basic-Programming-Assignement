{
 "cells": [
  {
   "cell_type": "markdown",
   "id": "d06b672f",
   "metadata": {},
   "source": [
    "## 1.\tWrite a Python Program to Find LCM?"
   ]
  },
  {
   "cell_type": "code",
   "execution_count": 2,
   "id": "fe1745ec",
   "metadata": {},
   "outputs": [
    {
     "data": {
      "text/plain": [
       "36"
      ]
     },
     "execution_count": 2,
     "metadata": {},
     "output_type": "execute_result"
    }
   ],
   "source": [
    "def lcm(x,y):\n",
    "    if x > y:\n",
    "        greater = x\n",
    "    else:\n",
    "        greater = y\n",
    "    while True:\n",
    "        if greater % x ==0 and greater % y ==0:\n",
    "            lcm = greater\n",
    "            break\n",
    "        greater += 1\n",
    "    return lcm\n",
    "\n",
    "lcm(12,18)"
   ]
  },
  {
   "cell_type": "markdown",
   "id": "1444b515",
   "metadata": {},
   "source": [
    "## 2.\tWrite a Python Program to Find HCF?"
   ]
  },
  {
   "cell_type": "code",
   "execution_count": 12,
   "id": "43a5ed9b",
   "metadata": {},
   "outputs": [
    {
     "data": {
      "text/plain": [
       "4"
      ]
     },
     "execution_count": 12,
     "metadata": {},
     "output_type": "execute_result"
    }
   ],
   "source": [
    "def hcf(a,b):\n",
    "    if a > b:\n",
    "        small = b\n",
    "    else:\n",
    "        small = a\n",
    "    for i in range(1, small+1):\n",
    "        if a%i == 0 and b%i ==0:\n",
    "            hcf = i\n",
    "    return hcf\n",
    "    \n",
    "hcf(8,28)"
   ]
  },
  {
   "cell_type": "markdown",
   "id": "1937dcfa",
   "metadata": {},
   "source": [
    "## 3.\tWrite a Python Program to Convert Decimal to Binary, Octal and Hexadecimal?"
   ]
  },
  {
   "cell_type": "code",
   "execution_count": 63,
   "id": "aae52cf2",
   "metadata": {},
   "outputs": [
    {
     "name": "stdout",
     "output_type": "stream",
     "text": [
      "Enter decimal no for binary converson: 339\n",
      "binary converson of 339 is :\n",
      "1 0 1 0 1 0 0 1 1 \n",
      "\n",
      "Enter decimal no for octal converson: 784\n",
      "octal converson of 784 is: \n",
      "1 4 2 0 \n",
      "\n",
      "Enter decimal no for hexadecimal converson: 479\n",
      "hexadecimal converson of 479 is :\n",
      "1 D F "
     ]
    }
   ],
   "source": [
    "# Decimal to Binary\n",
    "def dec_bin():\n",
    "    num1 = int(input(\"Enter decimal no for binary converson: \"))\n",
    "    l = []\n",
    "    num = num1\n",
    "    while True:\n",
    "        x=num % 2\n",
    "        l.append(x)\n",
    "        if num == 1:\n",
    "            break\n",
    "        num = num//2\n",
    "    print(f'binary converson of {num1} is :')\n",
    "    for i in l[::-1]:\n",
    "        print(i, end= ' ')\n",
    "dec_bin()\n",
    "\n",
    "\n",
    "# Decimal to Octal\n",
    "def dec_octal():\n",
    "    num1 = int(input(\"\\n\\nEnter decimal no for octal converson: \"))\n",
    "    lis = []\n",
    "    num = num1\n",
    "    while True:\n",
    "        x = num%8\n",
    "        lis.append(x)\n",
    "        num = num//8\n",
    "        if num == 0:\n",
    "            break\n",
    "    print(f'octal converson of {num1} is: ')\n",
    "    for i in lis[::-1]:\n",
    "        print(i, end= ' ')\n",
    "dec_octal()\n",
    "\n",
    "\n",
    "# Decimal to hexadecimal\n",
    "def dec_hexa():\n",
    "    num2 = int(input(\"\\n\\nEnter decimal no for hexadecimal converson: \"))\n",
    "    lis = []\n",
    "    num = num2\n",
    "    dic = {10:'A',11:'B', 12:'C', 13:'D', 14:'E', 15:'F'}\n",
    "    while True:\n",
    "        x = num%16\n",
    "        if x > 9:\n",
    "            lis.append(dic[x])\n",
    "        else:\n",
    "            lis.append(x)\n",
    "        num = num//16\n",
    "        if num == 0:\n",
    "            break\n",
    "    print(f'hexadecimal converson of {num2} is :')\n",
    "    for i in lis[::-1]:\n",
    "        print(i, end= ' ')\n",
    "dec_hexa()"
   ]
  },
  {
   "cell_type": "markdown",
   "id": "5a38170c",
   "metadata": {},
   "source": [
    "## 4.\tWrite a Python Program To Find ASCII value of a character?"
   ]
  },
  {
   "cell_type": "code",
   "execution_count": 69,
   "id": "b45748b4",
   "metadata": {},
   "outputs": [
    {
     "name": "stdout",
     "output_type": "stream",
     "text": [
      "Enter any string: vikas\n",
      "ASCII value of  v is: 118\n",
      "ASCII value of  i is: 105\n",
      "ASCII value of  k is: 107\n",
      "ASCII value of  a is: 97\n",
      "ASCII value of  s is: 115\n"
     ]
    }
   ],
   "source": [
    "string = input('Enter any string: ')\n",
    "for i in string:\n",
    "    print('ASCII value of ', i, 'is:', ord(i))  "
   ]
  },
  {
   "cell_type": "markdown",
   "id": "8c8cba32",
   "metadata": {},
   "source": [
    "## 5.\tWrite a Python Program to Make a Simple Calculator with 4 basic mathematical operations?"
   ]
  },
  {
   "cell_type": "code",
   "execution_count": null,
   "id": "d3547afb",
   "metadata": {},
   "outputs": [],
   "source": [
    "def simple_calculator():\n",
    "    x = input()"
   ]
  },
  {
   "cell_type": "code",
   "execution_count": 72,
   "id": "4c536f2f",
   "metadata": {},
   "outputs": [
    {
     "name": "stdout",
     "output_type": "stream",
     "text": [
      "Select a Arithmetic Operation:         \n",
      "1.Addition(+)        \n",
      "2.Division(-)        \n",
      "2.Multiplication(*)        \n",
      "4.Division(/)        \n",
      "3.Stop(0)\n",
      "\n",
      "Enter a arithmetic operation -> +\n",
      "\n",
      "Enter 1st Number: 25\n",
      "Enter 2nd Number: 36\n",
      "25+36=61\n",
      "\n",
      "Enter a arithmetic operation -> -\n",
      "\n",
      "Enter 1st Number: 85\n",
      "Enter 2nd Number: 65\n",
      "85-65=20\n",
      "\n",
      "Enter a arithmetic operation -> *\n",
      "\n",
      "Enter 1st Number: 23\n",
      "Enter 2nd Number: 2\n",
      "23*2=46\n",
      "\n",
      "Enter a arithmetic operation -> /\n",
      "\n",
      "Enter 1st Number: 550\n",
      "Enter 2nd Number: 11\n",
      "550/11=50.0\n",
      "\n",
      "Enter a arithmetic operation -> 0\n",
      "Program Stopped successfully\n"
     ]
    }
   ],
   "source": [
    "import operator\n",
    "\n",
    "ls = { \"+\": operator.add, \"-\": operator.sub, \"*\":operator.mul, \"/\":operator.truediv } \n",
    "\n",
    "print('Select a Arithmetic Operation: \\\n",
    "        \\n1.Addition(+)\\\n",
    "        \\n2.Division(-)\\\n",
    "        \\n2.Multiplication(*)\\\n",
    "        \\n4.Division(/)\\\n",
    "        \\n3.Stop(0)\\n')\n",
    "   \n",
    "\n",
    "while True:\n",
    "    operator = input('Enter a arithmetic operation -> ')\n",
    "    if operator == '0':\n",
    "        print(\"Program Stopped successfully\")\n",
    "        break\n",
    "    elif operator not in ['+','-','*','/']:\n",
    "        print(\"Please enter a valid operator\")\n",
    "    else:\n",
    "        num_1 = int(input('\\nEnter 1st Number: '))\n",
    "        num_2 = int(input('Enter 2nd Number: '))\n",
    "        print(f'{num_1}{operator}{num_2}={ls[operator](num_1,num_2)}\\n')"
   ]
  },
  {
   "cell_type": "code",
   "execution_count": null,
   "id": "8691bc19",
   "metadata": {},
   "outputs": [],
   "source": []
  }
 ],
 "metadata": {
  "kernelspec": {
   "display_name": "Python 3 (ipykernel)",
   "language": "python",
   "name": "python3"
  },
  "language_info": {
   "codemirror_mode": {
    "name": "ipython",
    "version": 3
   },
   "file_extension": ".py",
   "mimetype": "text/x-python",
   "name": "python",
   "nbconvert_exporter": "python",
   "pygments_lexer": "ipython3",
   "version": "3.9.7"
  }
 },
 "nbformat": 4,
 "nbformat_minor": 5
}
