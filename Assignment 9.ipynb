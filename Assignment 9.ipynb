{
 "cells": [
  {
   "cell_type": "markdown",
   "id": "758f1e63",
   "metadata": {},
   "source": [
    "## 1- Write a Python program to check if the given number is a Disarium Number?"
   ]
  },
  {
   "cell_type": "code",
   "execution_count": 14,
   "id": "185f8f7e",
   "metadata": {},
   "outputs": [
    {
     "name": "stdout",
     "output_type": "stream",
     "text": [
      "135\n",
      "Given number is Disarium Number\n"
     ]
    }
   ],
   "source": [
    "num = int(input())\n",
    "length = len(str(num))\n",
    "total = 0\n",
    "x = num\n",
    "while x!=0:\n",
    "    d = x%10\n",
    "    total += d**length\n",
    "    length = length -1\n",
    "    x = x//10\n",
    "if total == num:\n",
    "    print(\"Given number is Disarium Number\")\n",
    "else:\n",
    "    print('Given number is not Disarium Number')"
   ]
  },
  {
   "cell_type": "markdown",
   "id": "26e99c24",
   "metadata": {},
   "source": [
    "## 2. Write a Python program to print all disarium numbers between 1 to 100?"
   ]
  },
  {
   "cell_type": "code",
   "execution_count": 19,
   "id": "b1cd7e87",
   "metadata": {},
   "outputs": [
    {
     "name": "stdout",
     "output_type": "stream",
     "text": [
      "Disarium number between 1 to 100 is: \n",
      "[1, 2, 3, 4, 5, 6, 7, 8, 9, 89]\n"
     ]
    }
   ],
   "source": [
    "def disarupto100():\n",
    "    l = []\n",
    "    total = 0\n",
    "    for i in range(1,101):\n",
    "        x = i\n",
    "        total = 0\n",
    "        count = len(str(i))\n",
    "        while x!= 0:\n",
    "            d = x%10\n",
    "            total += d**count\n",
    "            count = count-1\n",
    "            x = x//10\n",
    "        if total == i:\n",
    "            l.append(i)\n",
    "    print(\"Disarium number between 1 to 100 is: \")\n",
    "    print(l)\n",
    "disarupto100()"
   ]
  },
  {
   "cell_type": "markdown",
   "id": "8618a648",
   "metadata": {},
   "source": [
    "## 3. Write a Python program to check if the given number is Happy Number?"
   ]
  },
  {
   "cell_type": "code",
   "execution_count": 19,
   "id": "d4a47e39",
   "metadata": {},
   "outputs": [
    {
     "name": "stdout",
     "output_type": "stream",
     "text": [
      "enter a number: 4\n",
      "this is not a happy number\n"
     ]
    }
   ],
   "source": [
    "num = int(input(\"enter a number: \"))\n",
    "s = num\n",
    "t = num\n",
    "def sumofsquare(n):\n",
    "    x = n\n",
    "    total = 0\n",
    "    while x != 0:\n",
    "        d = x%10\n",
    "        total += d**2\n",
    "        x = x//10\n",
    "    return total\n",
    "\n",
    "while True:\n",
    "    s = sumofsquare(s)\n",
    "    t = sumofsquare(sumofsquare(t))\n",
    "    if s != t:\n",
    "        continue\n",
    "    else:\n",
    "        break\n",
    "        \n",
    "if s ==1:\n",
    "    print(\"this is a happy number\")\n",
    "else:\n",
    "    print('this is not a happy number')"
   ]
  },
  {
   "cell_type": "markdown",
   "id": "03590817",
   "metadata": {},
   "source": [
    "## 4. Write a Python program to print all happy numbers between 1 and 100?"
   ]
  },
  {
   "cell_type": "code",
   "execution_count": 2,
   "id": "f5e6ff0a",
   "metadata": {},
   "outputs": [
    {
     "name": "stdout",
     "output_type": "stream",
     "text": [
      "[1, 7, 10, 13, 19, 23, 28, 31, 32, 44, 49, 68, 70, 79, 82, 86, 91, 94, 97, 100]\n"
     ]
    }
   ],
   "source": [
    "def sumofsquare(n):\n",
    "    x = n\n",
    "    total = 0\n",
    "    while x != 0:\n",
    "        d = x%10\n",
    "        total += d**2\n",
    "        x = x//10\n",
    "    return total\n",
    "def Happy_numbers():\n",
    "    not_happy = []\n",
    "    l = []\n",
    "    for i in range(1,101):\n",
    "        s = i\n",
    "        t = i\n",
    "        while True:\n",
    "            s = sumofsquare(s)\n",
    "            t = sumofsquare(sumofsquare(t))\n",
    "            if s != t:\n",
    "                continue\n",
    "            else:\n",
    "                if s ==1 and t ==1:\n",
    "                    l.append(i)\n",
    "                break\n",
    "    print(l)\n",
    "\n",
    "Happy_numbers()"
   ]
  },
  {
   "cell_type": "markdown",
   "id": "055209b4",
   "metadata": {},
   "source": [
    "## 5 Write a Python program to determine whether the given number is a Harshad Number?"
   ]
  },
  {
   "cell_type": "code",
   "execution_count": 6,
   "id": "80422abe",
   "metadata": {},
   "outputs": [
    {
     "name": "stdout",
     "output_type": "stream",
     "text": [
      "this is not harshad number\n"
     ]
    }
   ],
   "source": [
    "\n",
    "def checkharshad(n):\n",
    "    def add_digit(num):\n",
    "        s = 0\n",
    "        x = num\n",
    "        while True:\n",
    "            d = x%10\n",
    "            s += d\n",
    "            x = x//10\n",
    "            if x ==0:\n",
    "                break\n",
    "            else:\n",
    "                continue\n",
    "        return s\n",
    "    if n%add_digit(n) ==0:\n",
    "        print(\"this is a harshad number\")\n",
    "    else:\n",
    "        print('this is not harshad number')\n",
    "            \n",
    "checkharshad(26)"
   ]
  },
  {
   "cell_type": "markdown",
   "id": "f14cede6",
   "metadata": {},
   "source": [
    "## 6 Write a Python program to print all pronic numbers between 1 and 100?"
   ]
  },
  {
   "cell_type": "code",
   "execution_count": 11,
   "id": "b159079e",
   "metadata": {},
   "outputs": [
    {
     "name": "stdout",
     "output_type": "stream",
     "text": [
      "[2, 6, 12, 20, 30, 42, 56, 72, 90]\n"
     ]
    }
   ],
   "source": [
    "import math\n",
    "def checkpronic(num):\n",
    "    d = 0\n",
    "    while d <= int(math.sqrt(num)):\n",
    "        if num == d*(d+1):\n",
    "            return True\n",
    "        d = d +1\n",
    "lis = []\n",
    "for i in range(1,101):\n",
    "    if checkpronic(i):\n",
    "        lis.append(i)\n",
    "print(lis)"
   ]
  },
  {
   "cell_type": "code",
   "execution_count": null,
   "id": "ae3b904f",
   "metadata": {},
   "outputs": [],
   "source": []
  }
 ],
 "metadata": {
  "kernelspec": {
   "display_name": "Python 3 (ipykernel)",
   "language": "python",
   "name": "python3"
  },
  "language_info": {
   "codemirror_mode": {
    "name": "ipython",
    "version": 3
   },
   "file_extension": ".py",
   "mimetype": "text/x-python",
   "name": "python",
   "nbconvert_exporter": "python",
   "pygments_lexer": "ipython3",
   "version": "3.9.7"
  }
 },
 "nbformat": 4,
 "nbformat_minor": 5
}
