{
 "cells": [
  {
   "cell_type": "markdown",
   "id": "aad410c0",
   "metadata": {},
   "source": [
    "## 1.Write a Python program to find words which are greater than given length k?"
   ]
  },
  {
   "cell_type": "code",
   "execution_count": 19,
   "id": "50a19b08",
   "metadata": {},
   "outputs": [
    {
     "data": {
      "text/plain": [
       "\"list of words which are greater than 4 in the string are: ['Write', 'Python', 'program', 'words', 'which', 'greater', 'given', 'length']\""
      ]
     },
     "execution_count": 19,
     "metadata": {},
     "output_type": "execute_result"
    }
   ],
   "source": [
    "def words_greater_k(sentence, k):\n",
    "    l = []\n",
    "    if type(sentence) == str and type(k)== int:\n",
    "        pass\n",
    "    else:\n",
    "        print(\"Not stirng data type or invalid input\")\n",
    "    sentence = sentence.split()\n",
    "    for i in sentence:\n",
    "        if len(i)> k:\n",
    "            l.append(i)\n",
    "    return f'list of words which are greater than {k} in the string are: {l}'\n",
    "\n",
    "s = \"Write a Python program to find words which are greater than given length k?\"\n",
    "words_greater_k(s,4)"
   ]
  },
  {
   "cell_type": "markdown",
   "id": "9d1b49db",
   "metadata": {},
   "source": [
    "## 2.Write a Python program for removing i-th character from a string?"
   ]
  },
  {
   "cell_type": "code",
   "execution_count": 24,
   "id": "68a4f90b",
   "metadata": {},
   "outputs": [
    {
     "data": {
      "text/plain": [
       "'comuter'"
      ]
     },
     "execution_count": 24,
     "metadata": {},
     "output_type": "execute_result"
    }
   ],
   "source": [
    "def remove_ithchar(i,k):\n",
    "    string = \"\"\n",
    "    if type(i) != str:\n",
    "        print(\"provide only string data type.\")\n",
    "    for j in range(len(i)):\n",
    "        if j != k-1:\n",
    "            string += i[j]\n",
    "    return string\n",
    "\n",
    "string = 'computer'\n",
    "remove_ithchar(string, 4)"
   ]
  },
  {
   "cell_type": "markdown",
   "id": "6172c4d6",
   "metadata": {},
   "source": [
    "## 3.Write a Python program to split and join a string?"
   ]
  },
  {
   "cell_type": "code",
   "execution_count": 56,
   "id": "dd890c63",
   "metadata": {},
   "outputs": [
    {
     "data": {
      "text/plain": [
       "('H,e,l,l,o', 'world')"
      ]
     },
     "execution_count": 56,
     "metadata": {},
     "output_type": "execute_result"
    }
   ],
   "source": [
    "def split_str(string):\n",
    "    s = \"\"\n",
    "    comma = \",\"\n",
    "    for i in string:\n",
    "        if i != string[-1]:\n",
    "            s = s+i+comma\n",
    "        else:\n",
    "            s = s+i\n",
    "    return s\n",
    "\n",
    "def join_str(string):\n",
    "    s = \"\"\n",
    "    for i in string:\n",
    "        if i != \",\":\n",
    "            s += i\n",
    "    return s\n",
    "split_str(\"Hello\"), join_str(\"w,o,r,l,d\")"
   ]
  },
  {
   "cell_type": "markdown",
   "id": "69680730",
   "metadata": {},
   "source": [
    "## 4.Write a Python to check if a given string is binary string or not?"
   ]
  },
  {
   "cell_type": "code",
   "execution_count": 68,
   "id": "031a4fbe",
   "metadata": {},
   "outputs": [
    {
     "data": {
      "text/plain": [
       "'this is not binary string'"
      ]
     },
     "execution_count": 68,
     "metadata": {},
     "output_type": "execute_result"
    }
   ],
   "source": [
    "def checkbin(string):\n",
    "    ele = 0\n",
    "    for i in string:\n",
    "        if i in ['0', '1']:\n",
    "            ele += 1\n",
    "    if ele == len(string):\n",
    "        return \"this is binary string\"\n",
    "    else:\n",
    "        return \"this is not binary string\"\n",
    "    \n",
    "            \n",
    "checkbin('100110112')"
   ]
  },
  {
   "cell_type": "markdown",
   "id": "8e4a9996",
   "metadata": {},
   "source": [
    "## 5.Write a Python program to find uncommon words from two Strings?"
   ]
  },
  {
   "cell_type": "code",
   "execution_count": 77,
   "id": "6b6c8d8b",
   "metadata": {},
   "outputs": [
    {
     "data": {
      "text/plain": [
       "['The', 'cow', 'this', 'animal', 'also']"
      ]
     },
     "execution_count": 77,
     "metadata": {},
     "output_type": "execute_result"
    }
   ],
   "source": [
    "def find_uncommon(string1, string2):\n",
    "    string1 = string1.split()\n",
    "    string2 = string2.split()\n",
    "    ls = []\n",
    "    for i in string1:\n",
    "        if i not in string2:\n",
    "            ls.append(i)\n",
    "    ls1 = ls\n",
    "    for j in string2:\n",
    "        if j not in string1:\n",
    "            ls1.append(j)\n",
    "    return ls1\n",
    "\n",
    "\n",
    "str1 = \"The cow has four legs\"\n",
    "str2 = \"this animal also has four legs\"\n",
    "find_uncommon(str1, str2)        "
   ]
  },
  {
   "cell_type": "markdown",
   "id": "de6ad600",
   "metadata": {},
   "source": [
    "## 6.Write a Python to find all duplicate characters in string?"
   ]
  },
  {
   "cell_type": "code",
   "execution_count": 5,
   "id": "136d7b1a",
   "metadata": {},
   "outputs": [
    {
     "data": {
      "text/plain": [
       "['a', 'l', 'm']"
      ]
     },
     "execution_count": 5,
     "metadata": {},
     "output_type": "execute_result"
    }
   ],
   "source": [
    "def return_dupchare(strg):\n",
    "    ls = []\n",
    "    dup = []\n",
    "    for i in range(len(strg)):\n",
    "        if strg[i] in ls:\n",
    "            if strg[i] not in dup:\n",
    "                dup.append(strg[i])\n",
    "        else:\n",
    "            ls.append(strg[i])\n",
    "    return dup\n",
    "\n",
    "return_dupchare(\"malayalam\")\n",
    "                "
   ]
  },
  {
   "cell_type": "markdown",
   "id": "8530880d",
   "metadata": {},
   "source": [
    "## 7.Write a Python Program to check if a string contains any special character?"
   ]
  },
  {
   "cell_type": "code",
   "execution_count": 17,
   "id": "c9b4e7b5",
   "metadata": {},
   "outputs": [
    {
     "name": "stdout",
     "output_type": "stream",
     "text": [
      "\n",
      "Given string vikas@bharti.com contain 2 special character\n",
      "2 special charater in the string: @.\n"
     ]
    }
   ],
   "source": [
    "def checkspecial_char(string):\n",
    "    special_char = '#$%^&*()?<>~/\\,.;:''\"\"!@'\n",
    "    num = 0\n",
    "    sp = ''\n",
    "    for i in string:\n",
    "        if i in special_char:\n",
    "            num += 1\n",
    "            sp += i\n",
    "    if num > 0:\n",
    "        print(f'\\nGiven string {string} contain {num} special character')\n",
    "        print(f'{num} special charater in the string: {sp}')\n",
    "    else:\n",
    "        print(f'Given string -{string}, does not have any special character.')\n",
    "        \n",
    "checkspecial_char('vikas@bharti.com')\n",
    "            "
   ]
  },
  {
   "cell_type": "code",
   "execution_count": null,
   "id": "c2f65c10",
   "metadata": {},
   "outputs": [],
   "source": []
  }
 ],
 "metadata": {
  "kernelspec": {
   "display_name": "Python 3 (ipykernel)",
   "language": "python",
   "name": "python3"
  },
  "language_info": {
   "codemirror_mode": {
    "name": "ipython",
    "version": 3
   },
   "file_extension": ".py",
   "mimetype": "text/x-python",
   "name": "python",
   "nbconvert_exporter": "python",
   "pygments_lexer": "ipython3",
   "version": "3.9.7"
  }
 },
 "nbformat": 4,
 "nbformat_minor": 5
}
