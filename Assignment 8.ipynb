{
 "cells": [
  {
   "cell_type": "markdown",
   "id": "abf67a75",
   "metadata": {},
   "source": [
    "## 1.\tWrite a Python Program to Add Two Matrices?"
   ]
  },
  {
   "cell_type": "code",
   "execution_count": 38,
   "id": "e989cfa0",
   "metadata": {},
   "outputs": [
    {
     "name": "stdout",
     "output_type": "stream",
     "text": [
      "[[17, 15, 4], [10, 12, 9], [11, 13, 18]]\n"
     ]
    }
   ],
   "source": [
    "def Add2matrices(x,y):\n",
    "    x_rows = len(x)\n",
    "    x_cols = len(x[0])\n",
    "    y_rows = len(y)\n",
    "    y_cols = len(y[0])\n",
    "    \n",
    "    if x_rows == y_rows and x_cols == y_cols:# checking whether no of rows and column are same\n",
    "        result = [[0 for i in range(x_cols)] for j in range(x_rows)] # making zero matrix of same order\n",
    "        for i in range(x_cols): #iterating through columns\n",
    "            for j in range(x_rows):\n",
    "                result[i][j] += x[i][j]+y[i][j]\n",
    "    print(result)\n",
    "    \n",
    "l = [[12,7,3],\n",
    "    [4 ,5,6],\n",
    "    [7 ,8,9]]\n",
    "m = [[5,8,1],\n",
    "    [6,7,3],\n",
    "    [4,5,9]]\n",
    "Add2matrices(l,m)   "
   ]
  },
  {
   "cell_type": "markdown",
   "id": "32533478",
   "metadata": {},
   "source": [
    "## 2.\tWrite a Python Program to Multiply Two Matrices?"
   ]
  },
  {
   "cell_type": "code",
   "execution_count": 36,
   "id": "1a721671",
   "metadata": {},
   "outputs": [
    {
     "name": "stdout",
     "output_type": "stream",
     "text": [
      "[[32, 38], [86, 101], [140, 164]]\n"
     ]
    }
   ],
   "source": [
    "def Mul2mat(a,b):\n",
    "    a_cols = len(a[0])\n",
    "    a_rows = len(a)\n",
    "    b_cols = len(b[0])\n",
    "    b_rows = len(b)\n",
    "    if a_cols==b_rows:\n",
    "        result = [[0 for i in range(b_cols)] for j in range(b_rows)]\n",
    "        for i in range(a_rows):\n",
    "            for j in range(b_cols):\n",
    "                for k in range(b_rows):\n",
    "                    result[i][j] += a[i][k]*b[k][j]\n",
    "    print(result)\n",
    "    else:\n",
    "        print('No of rows of second metrix should be equal to now of columns of 1st matrix')\n",
    "        \n",
    "        \n",
    "# if a is matrix of 3X3, b is matrix 0f 3x2                   \n",
    "# i--> 0,1,2\n",
    "# j--> 0,1\n",
    "# k--> 0,1,2\n",
    "#i-->0->j-->0->k--> 0--> result[0][0] = 00+a[0][0]*b[0][0]\n",
    "#              k--> 1--> result[0][0] = (result[0][0] in k->0) + a[0][1]*b[1][0]\n",
    "#              k--> 2--> result[0][0] = (result[0][0] in k-> 1) + a[0][2]*b[2][0]\n",
    "# ultimatly if k loop end if j->0, we will get result[0][0] = a[0][0]*b[0][0] + a[0][1]*b[1][0] + a[0][2]*b[2][0] this is a value for first element of result matrix\n",
    "\n",
    "a = [[1,2,3],\n",
    "    [4 ,5,6],\n",
    "    [7 ,8,9]]\n",
    "b = [[8,9],\n",
    "    [6,7],\n",
    "    [4,5]]\n",
    "\n",
    "Mul2mat(a,b)\n"
   ]
  },
  {
   "cell_type": "markdown",
   "id": "335ac3d6",
   "metadata": {},
   "source": [
    "## 3.\tWrite a Python Program to Transpose a Matrix?"
   ]
  },
  {
   "cell_type": "code",
   "execution_count": 40,
   "id": "91c32f7b",
   "metadata": {},
   "outputs": [
    {
     "name": "stdout",
     "output_type": "stream",
     "text": [
      "[[1, 3, 5], [2, 4, 6]]\n"
     ]
    }
   ],
   "source": [
    "def matrix_trans(a):\n",
    "    result = [[0 for i in range(len(a))] for j in range(len(a[0]))] \n",
    "    for i in range(len(result)):\n",
    "        for j in range(len(result[0])):\n",
    "            result[i][j]= a[j][i]\n",
    "    print(result)\n",
    "x = [[1,2],\n",
    "     [3,4],\n",
    "     [5,6]]    \n",
    "matrix_trans(x)"
   ]
  },
  {
   "cell_type": "markdown",
   "id": "8661e3f8",
   "metadata": {},
   "source": [
    "## 4.\tWrite a Python Program to Sort Words in Alphabetic Order?"
   ]
  },
  {
   "cell_type": "code",
   "execution_count": 108,
   "id": "a77f1ab9",
   "metadata": {},
   "outputs": [
    {
     "name": "stdout",
     "output_type": "stream",
     "text": [
      "Enter string: Hello this Is an Example With cased letters\n",
      "\n",
      "\n",
      "word sorted in alphabetical order\n",
      "an cased example hello is letters this with "
     ]
    }
   ],
   "source": [
    "def alphabate_sorting():\n",
    "    string = input(\"Enter string: \") # entring string\n",
    "    words = string.lower() # making lower\n",
    "    lis = words.split() # making list of words of lower case\n",
    "    lis.sort()\n",
    "    print('\\n')\n",
    "    print('word sorted in alphabetical order: ')\n",
    "    for i in lis:\n",
    "        print(i, end= ' ')\n",
    "        \n",
    "alphabate_sorting()"
   ]
  },
  {
   "cell_type": "markdown",
   "id": "9f3b1336",
   "metadata": {},
   "source": [
    "## 5.\tWrite a Python Program to Remove Punctuation From a String?"
   ]
  },
  {
   "cell_type": "code",
   "execution_count": 17,
   "id": "8d28a4b0",
   "metadata": {},
   "outputs": [
    {
     "name": "stdout",
     "output_type": "stream",
     "text": [
      "enter stirng: h,i:my'na?me;is\\\"vik.as\n",
      "himynameisvikas\n"
     ]
    }
   ],
   "source": [
    "string= input('enter stirng: ')\n",
    "s = ''\n",
    "punctuation ='''!()-[]{};:'\"\\,<>./?@#$%^&*_~'''\n",
    "for i in string:\n",
    "    if i not in punctuation:\n",
    "        s += i\n",
    "print(s)"
   ]
  }
 ],
 "metadata": {
  "kernelspec": {
   "display_name": "Python 3 (ipykernel)",
   "language": "python",
   "name": "python3"
  },
  "language_info": {
   "codemirror_mode": {
    "name": "ipython",
    "version": 3
   },
   "file_extension": ".py",
   "mimetype": "text/x-python",
   "name": "python",
   "nbconvert_exporter": "python",
   "pygments_lexer": "ipython3",
   "version": "3.9.7"
  }
 },
 "nbformat": 4,
 "nbformat_minor": 5
}
