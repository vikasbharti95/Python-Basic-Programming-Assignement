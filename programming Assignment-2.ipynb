{
 "cells": [
  {
   "cell_type": "markdown",
   "id": "e7cb5bf7",
   "metadata": {},
   "source": [
    "## 1.\tWrite a Python program to convert kilometers to miles?"
   ]
  },
  {
   "cell_type": "code",
   "execution_count": 15,
   "id": "d615f4b3",
   "metadata": {},
   "outputs": [
    {
     "name": "stdout",
     "output_type": "stream",
     "text": [
      "Enter Kilometers :f\n",
      "\n",
      "enter correct value\n",
      "Enter Kilometers :s\n",
      "\n",
      "enter correct value\n",
      "Enter Kilometers :8\n",
      "value in miles: 4.97096952\n"
     ]
    }
   ],
   "source": [
    "def unit_convert():\n",
    "    try:\n",
    "        s = int(input(\"Enter Kilometers :\"))\n",
    "        print(f\"value in miles: {s*0.62137119}\")\n",
    "    except Exception as e:\n",
    "        print(\"\\nenter correct value\")\n",
    "        unit_convert()\n",
    "unit_convert()"
   ]
  },
  {
   "cell_type": "markdown",
   "id": "ad42dfcb",
   "metadata": {},
   "source": [
    "## 2.\tWrite a Python program to convert Celsius to Fahrenheit?"
   ]
  },
  {
   "cell_type": "code",
   "execution_count": 32,
   "id": "29f50f91",
   "metadata": {},
   "outputs": [
    {
     "name": "stdout",
     "output_type": "stream",
     "text": [
      "\n",
      "Please Enter Celsius: 37\n",
      "37.0° Celsius is equal to 98.60000000000001° Fahrenheit\n"
     ]
    }
   ],
   "source": [
    "def Cel_fah():\n",
    "    try:\n",
    "        c= float(input(\"\\nPlease Enter Celsius: \"))\n",
    "        f= (c*1.8)+32\n",
    "        print(\"{}° Celsius is equal to {}° Fahrenheit\".format(c,f))\n",
    "    except Exception as e:\n",
    "        print(f'enter correct value')\n",
    "        Cel_fah()\n",
    "Cel_fah()"
   ]
  },
  {
   "cell_type": "markdown",
   "id": "3c0b9759",
   "metadata": {},
   "source": [
    "## 3.\tWrite a Python program to display calendar?"
   ]
  },
  {
   "cell_type": "code",
   "execution_count": 47,
   "id": "750b1a0f",
   "metadata": {},
   "outputs": [
    {
     "name": "stdout",
     "output_type": "stream",
     "text": [
      "Enter year: 1993\n",
      "                                  1993\n",
      "\n",
      "      January                   February                   March\n",
      "Mo Tu We Th Fr Sa Su      Mo Tu We Th Fr Sa Su      Mo Tu We Th Fr Sa Su\n",
      "             1  2  3       1  2  3  4  5  6  7       1  2  3  4  5  6  7\n",
      " 4  5  6  7  8  9 10       8  9 10 11 12 13 14       8  9 10 11 12 13 14\n",
      "11 12 13 14 15 16 17      15 16 17 18 19 20 21      15 16 17 18 19 20 21\n",
      "18 19 20 21 22 23 24      22 23 24 25 26 27 28      22 23 24 25 26 27 28\n",
      "25 26 27 28 29 30 31                                29 30 31\n",
      "\n",
      "       April                      May                       June\n",
      "Mo Tu We Th Fr Sa Su      Mo Tu We Th Fr Sa Su      Mo Tu We Th Fr Sa Su\n",
      "          1  2  3  4                      1  2          1  2  3  4  5  6\n",
      " 5  6  7  8  9 10 11       3  4  5  6  7  8  9       7  8  9 10 11 12 13\n",
      "12 13 14 15 16 17 18      10 11 12 13 14 15 16      14 15 16 17 18 19 20\n",
      "19 20 21 22 23 24 25      17 18 19 20 21 22 23      21 22 23 24 25 26 27\n",
      "26 27 28 29 30            24 25 26 27 28 29 30      28 29 30\n",
      "                          31\n",
      "\n",
      "        July                     August                  September\n",
      "Mo Tu We Th Fr Sa Su      Mo Tu We Th Fr Sa Su      Mo Tu We Th Fr Sa Su\n",
      "          1  2  3  4                         1             1  2  3  4  5\n",
      " 5  6  7  8  9 10 11       2  3  4  5  6  7  8       6  7  8  9 10 11 12\n",
      "12 13 14 15 16 17 18       9 10 11 12 13 14 15      13 14 15 16 17 18 19\n",
      "19 20 21 22 23 24 25      16 17 18 19 20 21 22      20 21 22 23 24 25 26\n",
      "26 27 28 29 30 31         23 24 25 26 27 28 29      27 28 29 30\n",
      "                          30 31\n",
      "\n",
      "      October                   November                  December\n",
      "Mo Tu We Th Fr Sa Su      Mo Tu We Th Fr Sa Su      Mo Tu We Th Fr Sa Su\n",
      "             1  2  3       1  2  3  4  5  6  7             1  2  3  4  5\n",
      " 4  5  6  7  8  9 10       8  9 10 11 12 13 14       6  7  8  9 10 11 12\n",
      "11 12 13 14 15 16 17      15 16 17 18 19 20 21      13 14 15 16 17 18 19\n",
      "18 19 20 21 22 23 24      22 23 24 25 26 27 28      20 21 22 23 24 25 26\n",
      "25 26 27 28 29 30 31      29 30                     27 28 29 30 31\n",
      "\n"
     ]
    }
   ],
   "source": [
    "import calendar\n",
    "def show_calendar():\n",
    "\n",
    "    try:\n",
    "        yyyy = int(input(\"Enter year: \"))\n",
    "        print(calendar.calendar(yyyy))\n",
    "    except Exception as e:\n",
    "        print(\"you have entered wrong input: \", e)\n",
    "        show_calendar()\n",
    "        \n",
    "show_calendar()"
   ]
  },
  {
   "cell_type": "markdown",
   "id": "2f0bf37e",
   "metadata": {},
   "source": [
    "## 4.\tWrite a Python program to solve quadratic equation?"
   ]
  },
  {
   "cell_type": "code",
   "execution_count": 1,
   "id": "73950e1a",
   "metadata": {},
   "outputs": [
    {
     "name": "stdout",
     "output_type": "stream",
     "text": [
      "Enter coefficient of x²: 0\n",
      "coefficient of x² can not 0, Please enter again:\n",
      "Enter coefficient of x²: 2\n",
      "Enter coefficient of x: 2\n",
      "Enter the constant no: 1\n",
      "\n",
      "Roots are complex\n",
      "roots of the quadratic equation: (-0.5+0.5j),(-0.5-0.5j)\n"
     ]
    }
   ],
   "source": [
    "import math\n",
    "import cmath\n",
    "def equation_root():\n",
    "    try:\n",
    "        a= float(input(\"Enter coefficient of x²: \"))\n",
    "        if a == 0:\n",
    "            print(\"coefficient of x² can not 0, Please enter again:\")\n",
    "            equation_root()\n",
    "        else:\n",
    "            b= float(input(\"Enter coefficient of x: \"))\n",
    "            c= float(input(\"Enter the constant no: \"))\n",
    "            discriminant = cmath.sqrt(b*b-4*a*c)\n",
    "            if b*b == 4*a*c:\n",
    "                print(\"\\nRoots are real and both roots are equal\")\n",
    "            elif b*b > 4*a*c:\n",
    "                print(\"\\nRoots are real and both roots are different\")\n",
    "            else:\n",
    "                print(\"\\nRoots are complex\")\n",
    "            print(f\"roots of the quadratic equation: {(-b+discriminant)/(2*a)},{(-b-discriminant)/(2*a)}\")\n",
    "        \n",
    "    except Exception as e:\n",
    "        print(\"There is an error of:\", e)\n",
    "        \n",
    "equation_root()"
   ]
  },
  {
   "cell_type": "markdown",
   "id": "3077fa03",
   "metadata": {},
   "source": [
    "## 5.\tWrite a Python program to swap two variables without temp variable?"
   ]
  },
  {
   "cell_type": "code",
   "execution_count": 7,
   "id": "9e199f00",
   "metadata": {},
   "outputs": [
    {
     "name": "stdout",
     "output_type": "stream",
     "text": [
      "enter a number: 45\n",
      "enter a number: 56\n",
      "number before swaping: 45, 56\n",
      "numbers after swapping: 56, 45\n"
     ]
    }
   ],
   "source": [
    "def swap_variable():\n",
    "    a = int(input(\"enter a number: \"))\n",
    "    b = int(input(\"enter a number: \"))\n",
    "    print(f\"number before swaping: {a}, {b}\")\n",
    "    a = a+b\n",
    "    b = a-b\n",
    "    a = a-b\n",
    "    print(f\"numbers after swapping: {a}, {b}\")\n",
    "    \n",
    "swap_variable()"
   ]
  }
 ],
 "metadata": {
  "kernelspec": {
   "display_name": "Python 3 (ipykernel)",
   "language": "python",
   "name": "python3"
  },
  "language_info": {
   "codemirror_mode": {
    "name": "ipython",
    "version": 3
   },
   "file_extension": ".py",
   "mimetype": "text/x-python",
   "name": "python",
   "nbconvert_exporter": "python",
   "pygments_lexer": "ipython3",
   "version": "3.9.7"
  }
 },
 "nbformat": 4,
 "nbformat_minor": 5
}
