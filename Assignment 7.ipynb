{
 "cells": [
  {
   "cell_type": "code",
   "execution_count": 35,
   "id": "8efdca5b",
   "metadata": {},
   "outputs": [
    {
     "name": "stdout",
     "output_type": "stream",
     "text": [
      "Enter array: x\n"
     ]
    },
    {
     "data": {
      "text/plain": [
       "'sum of the array[[9 9 4]\\n [6 9 8]] is [15 18 12]'"
      ]
     },
     "execution_count": 35,
     "metadata": {},
     "output_type": "execute_result"
    }
   ],
   "source": [
    "def array_sum():\n",
    "    arr = eval(input(\"Enter array: \"))\n",
    "    return f'sum of the array{arr} is {sum(arr)}'\n",
    "array_sum()"
   ]
  },
  {
   "cell_type": "markdown",
   "id": "1c39a01d",
   "metadata": {},
   "source": [
    "## 2.\tWrite a Python Program to find largest element in an array?"
   ]
  },
  {
   "cell_type": "code",
   "execution_count": 55,
   "id": "d3391045",
   "metadata": {},
   "outputs": [
    {
     "name": "stdout",
     "output_type": "stream",
     "text": [
      "Enter array: y\n"
     ]
    },
    {
     "data": {
      "text/plain": [
       "'largest element of the array[[ 3  2  4  5]\\n [ 6 11  6 12]] is 12'"
      ]
     },
     "execution_count": 55,
     "metadata": {},
     "output_type": "execute_result"
    }
   ],
   "source": [
    "def array_max():\n",
    "    arr = eval(input(\"Enter array: \"))\n",
    "    return f'largest element of the array{arr} is {arr.max()}'\n",
    "array_max()"
   ]
  },
  {
   "cell_type": "markdown",
   "id": "b339a5f7",
   "metadata": {},
   "source": [
    "## 3.\tWrite a Python Program for array rotation?"
   ]
  },
  {
   "cell_type": "code",
   "execution_count": 58,
   "id": "11bf01e4",
   "metadata": {},
   "outputs": [
    {
     "name": "stdout",
     "output_type": "stream",
     "text": [
      "Enter array: y\n"
     ]
    },
    {
     "data": {
      "text/plain": [
       "'rotation of [[ 3  2  4  5]\\n [ 6 11  6 12]] is [[ 3  6]\\n [ 2 11]\\n [ 4  6]\\n [ 5 12]]'"
      ]
     },
     "execution_count": 58,
     "metadata": {},
     "output_type": "execute_result"
    }
   ],
   "source": [
    "def array_rotate():\n",
    "    arr = eval(input(\"Enter array: \"))\n",
    "    return f'rotation of {arr} is {arr.transpose()}'\n",
    "array_rotate()"
   ]
  },
  {
   "cell_type": "markdown",
   "id": "16e74f78",
   "metadata": {},
   "source": [
    "## 4.\tWrite a Python Program to Split the array and add the first part to the end?"
   ]
  },
  {
   "cell_type": "code",
   "execution_count": 59,
   "id": "13c0e23a",
   "metadata": {},
   "outputs": [
    {
     "name": "stdout",
     "output_type": "stream",
     "text": [
      "Enter array: y\n"
     ]
    },
    {
     "data": {
      "text/plain": [
       "'Addition of first element to the last element of the array [[ 3  2  4  5]\\n [ 6 11  6 12]] is [ 9 13 10 17]'"
      ]
     },
     "execution_count": 59,
     "metadata": {},
     "output_type": "execute_result"
    }
   ],
   "source": [
    "def first_last():\n",
    "    arr = eval(input(\"Enter array: \"))\n",
    "    return f'Addition of first element to the last element of the array {arr} is {arr[0]+arr[-1]}'\n",
    "first_last()"
   ]
  },
  {
   "cell_type": "markdown",
   "id": "d8283c11",
   "metadata": {},
   "source": [
    "## 5.\tWrite a Python Program to check if given array is Monotonic?"
   ]
  },
  {
   "cell_type": "code",
   "execution_count": 83,
   "id": "1ed26039",
   "metadata": {},
   "outputs": [
    {
     "name": "stdout",
     "output_type": "stream",
     "text": [
      "Enter array: l\n",
      "Array is not monotonic\n"
     ]
    }
   ],
   "source": [
    "def monotonic_array():\n",
    "    arr = eval(input('Enter array: '))\n",
    "    increasing = all([arr[i]<=arr[i+1] for i in range(len(arr)-1)])\n",
    "    decreasing = all([arr[i]>=arr[i+1] for i in range(len(arr)-1)])\n",
    "    if increasing == True or decreasing == True:\n",
    "        print('Array is monotonic')\n",
    "    else:\n",
    "        print('Array is not monotonic')\n",
    "monotonic_array()"
   ]
  }
 ],
 "metadata": {
  "kernelspec": {
   "display_name": "Python 3 (ipykernel)",
   "language": "python",
   "name": "python3"
  },
  "language_info": {
   "codemirror_mode": {
    "name": "ipython",
    "version": 3
   },
   "file_extension": ".py",
   "mimetype": "text/x-python",
   "name": "python",
   "nbconvert_exporter": "python",
   "pygments_lexer": "ipython3",
   "version": "3.9.7"
  }
 },
 "nbformat": 4,
 "nbformat_minor": 5
}
