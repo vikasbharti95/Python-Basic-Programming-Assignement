{
 "cells": [
  {
   "cell_type": "markdown",
   "id": "6c2dc9fc",
   "metadata": {},
   "source": [
    "## 1.\tWrite a Python Program to Display Fibonacci Sequence Using Recursion?"
   ]
  },
  {
   "cell_type": "code",
   "execution_count": 2,
   "id": "458d238a",
   "metadata": {},
   "outputs": [
    {
     "name": "stdout",
     "output_type": "stream",
     "text": [
      "Enter terms: 20\n",
      "Febonacci sequences up to 20  term is: \n",
      "0 1 1 2 3 5 8 13 21 34 55 89 144 233 377 610 987 1597 2584 4181 "
     ]
    }
   ],
   "source": [
    "def febonacci_recursive(n):\n",
    "    if n <= 1:\n",
    "        return n\n",
    "    else:\n",
    "        return (febonacci_recursive(n-1)+febonacci_recursive(n-2))\n",
    "    \n",
    "term=int(input(\"Enter terms: \"))\n",
    "print('Febonacci sequences up to', term, ' term is: ')\n",
    "for i in range(term):\n",
    "    print(febonacci_recursive(i), end = ' ')"
   ]
  },
  {
   "cell_type": "markdown",
   "id": "1f13d6fa",
   "metadata": {},
   "source": [
    "## 2.\tWrite a Python Program to Find Factorial of Number Using Recursion?"
   ]
  },
  {
   "cell_type": "code",
   "execution_count": 13,
   "id": "6616541c",
   "metadata": {},
   "outputs": [
    {
     "name": "stdout",
     "output_type": "stream",
     "text": [
      "Enter a positive integer: 4\n",
      "factorial of 4 is 24\n"
     ]
    }
   ],
   "source": [
    "def Factorial_recur(n):\n",
    "    if n == 0 or n==1:\n",
    "        return 1\n",
    "    else:\n",
    "        return (n*Factorial_recur(n-1))\n",
    "num = int(input(\"Enter a positive integer: \"))\n",
    "print('factorial of', num, 'is', Factorial_recur(num))"
   ]
  },
  {
   "cell_type": "markdown",
   "id": "56158922",
   "metadata": {},
   "source": [
    "## 3.\tWrite a Python Program to calculate your Body Mass Index?"
   ]
  },
  {
   "cell_type": "code",
   "execution_count": 33,
   "id": "07142ed5",
   "metadata": {},
   "outputs": [
    {
     "name": "stdout",
     "output_type": "stream",
     "text": [
      "enter your age: 27\n",
      "enter your height in CM: 170\n",
      "enter your weight in KG: 75\n"
     ]
    },
    {
     "data": {
      "text/plain": [
       "'your BMI is 25.95 Kg/M²'"
      ]
     },
     "execution_count": 33,
     "metadata": {},
     "output_type": "execute_result"
    }
   ],
   "source": [
    "def BMI():\n",
    "    age = int(input(\"enter your age: \"))\n",
    "    height= float(input(\"enter your height in CM: \"))\n",
    "    weight= float(input('enter your weight in KG: '))\n",
    "    bmi = round(weight/((0.01*height)**2),2)\n",
    "    \n",
    "    return f'your BMI is {bmi} Kg/M²'\n",
    "BMI()"
   ]
  },
  {
   "cell_type": "markdown",
   "id": "816ff134",
   "metadata": {},
   "source": [
    "## 4.\tWrite a Python Program to calculate the natural logarithm of any number?"
   ]
  },
  {
   "cell_type": "code",
   "execution_count": 34,
   "id": "7534c878",
   "metadata": {},
   "outputs": [
    {
     "data": {
      "text/plain": [
       "2.302585092994046"
      ]
     },
     "execution_count": 34,
     "metadata": {},
     "output_type": "execute_result"
    }
   ],
   "source": [
    "import math\n",
    "def natural_log(num):\n",
    "    return math.log(num)\n",
    "natural_log(10)"
   ]
  },
  {
   "cell_type": "markdown",
   "id": "8a283616",
   "metadata": {},
   "source": [
    "## 5.\tWrite a Python Program for cube sum of first n natural numbers?"
   ]
  },
  {
   "cell_type": "code",
   "execution_count": 41,
   "id": "351cb268",
   "metadata": {},
   "outputs": [
    {
     "data": {
      "text/plain": [
       "'sum of cube of first 3 natural numbers is: 36'"
      ]
     },
     "execution_count": 41,
     "metadata": {},
     "output_type": "execute_result"
    }
   ],
   "source": [
    "def natural_cube(num):\n",
    "    return f'sum of cube of first {num} natural numbers is: {int((0.5*num*(num+1))**2)}'\n",
    "natural_cube(3)"
   ]
  }
 ],
 "metadata": {
  "kernelspec": {
   "display_name": "Python 3 (ipykernel)",
   "language": "python",
   "name": "python3"
  },
  "language_info": {
   "codemirror_mode": {
    "name": "ipython",
    "version": 3
   },
   "file_extension": ".py",
   "mimetype": "text/x-python",
   "name": "python",
   "nbconvert_exporter": "python",
   "pygments_lexer": "ipython3",
   "version": "3.9.7"
  }
 },
 "nbformat": 4,
 "nbformat_minor": 5
}
