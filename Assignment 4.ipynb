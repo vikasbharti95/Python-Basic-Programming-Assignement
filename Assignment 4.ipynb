{
 "cells": [
  {
   "cell_type": "markdown",
   "id": "18363ec7",
   "metadata": {},
   "source": [
    "## 1.\tWrite a Python Program to Find the Factorial of a Number?"
   ]
  },
  {
   "cell_type": "code",
   "execution_count": 3,
   "id": "677a85cd",
   "metadata": {},
   "outputs": [
    {
     "name": "stdout",
     "output_type": "stream",
     "text": [
      "Enter any number: 5\n",
      "Factorial of given number is : 120\n"
     ]
    }
   ],
   "source": [
    "def Factorial_num():\n",
    "    '''\n",
    "    this function return factorial of a number\n",
    "    '''\n",
    "    try:\n",
    "        x = 1\n",
    "        num = int(input(\"Enter any number: \"))\n",
    "        for i in range(1, num+1):\n",
    "            x = x*i\n",
    "        print(\"Factorial of given number is :\", x)\n",
    "    except Exception as e:\n",
    "        print(\"wrong input\",e)\n",
    "            \n",
    "Factorial_num()         "
   ]
  },
  {
   "cell_type": "markdown",
   "id": "b645fb06",
   "metadata": {},
   "source": [
    "## 2.\tWrite a Python Program to Display the multiplication Table?"
   ]
  },
  {
   "cell_type": "code",
   "execution_count": 8,
   "id": "a0030eb2",
   "metadata": {},
   "outputs": [
    {
     "name": "stdout",
     "output_type": "stream",
     "text": [
      "Enter a number for multiplication table: 8\n",
      "8 x 1 = 8\n",
      "8 x 2 = 16\n",
      "8 x 3 = 24\n",
      "8 x 4 = 32\n",
      "8 x 5 = 40\n",
      "8 x 6 = 48\n",
      "8 x 7 = 56\n",
      "8 x 8 = 64\n",
      "8 x 9 = 72\n",
      "8 x 10 = 80\n"
     ]
    }
   ],
   "source": [
    "def Multiplication_table():\n",
    "    '''\n",
    "    this function return multiplication of a number\n",
    "    '''\n",
    "    try:\n",
    "        num = int(input(\"Enter a number for multiplication table: \"))\n",
    "        for i in range(1,11):\n",
    "            print(f\"{num} x {i} = {num*i}\")\n",
    "    except Exception as e:\n",
    "        print('wrong input', e)\n",
    "Multiplication_table()"
   ]
  },
  {
   "cell_type": "markdown",
   "id": "340a3d58",
   "metadata": {},
   "source": [
    "## 3.\tWrite a Python Program to Print the Fibonacci sequence?"
   ]
  },
  {
   "cell_type": "code",
   "execution_count": 10,
   "id": "ddbde6c2",
   "metadata": {},
   "outputs": [
    {
     "name": "stdout",
     "output_type": "stream",
     "text": [
      "Enter no of terms required: 10\n",
      "Fibonacci sequence up to 10 term are: \n",
      "0\n",
      "1\n",
      "1\n",
      "2\n",
      "3\n",
      "5\n",
      "8\n",
      "13\n",
      "21\n",
      "34\n"
     ]
    }
   ],
   "source": [
    "# 0,1,1,2,3,5,8,13,21...\n",
    "def Febo():\n",
    "    term = int(input(\"Enter no of terms required: \"))\n",
    "    n1 = 0\n",
    "    n2 = 1\n",
    "    count = 0\n",
    "    if term <=0:\n",
    "        print(\"Enter positive number only\")\n",
    "    else:\n",
    "        print(f'Fibonacci sequence up to {term} term are: ')\n",
    "        for i in range(term):\n",
    "            print(n1)\n",
    "            temp = n1 + n2\n",
    "            n1 = n2\n",
    "            n2 = temp\n",
    "Febo()"
   ]
  },
  {
   "cell_type": "markdown",
   "id": "19bf82e5",
   "metadata": {},
   "source": [
    "## 4.\tWrite a Python Program to Check Armstrong Number?"
   ]
  },
  {
   "cell_type": "code",
   "execution_count": 5,
   "id": "b14354a8",
   "metadata": {},
   "outputs": [
    {
     "name": "stdout",
     "output_type": "stream",
     "text": [
      "Enter a number :407\n",
      "This is not an Armstrong number\n"
     ]
    }
   ],
   "source": [
    "# Arm strong number is - abcd... = aⁿ+bⁿ+cⁿ+dⁿ...\n",
    "def Armstrong_number():\n",
    "    num = int(input(\"Enter a number :\")) # Taking input of any number\n",
    "    order = len(str(num)) # what power should be\n",
    "    sum = 0\n",
    "    while num > 0:\n",
    "        digit = num % 10 # spliting digits\n",
    "        num = (num- num%10)//10 # updating number except last digit\n",
    "        sum += digit ** order\n",
    "    if num == sum:\n",
    "        print(\"This is an Armstrong number\")\n",
    "    else:\n",
    "        print(\"This is not an Armstrong number\")\n",
    "        \n",
    "Armstrong_number()"
   ]
  },
  {
   "cell_type": "markdown",
   "id": "327829b1",
   "metadata": {},
   "source": [
    "## 5.\tWrite a Python Program to Find Armstrong Number in an Interval?"
   ]
  },
  {
   "cell_type": "code",
   "execution_count": 34,
   "id": "97c2c417",
   "metadata": {},
   "outputs": [
    {
     "name": "stdout",
     "output_type": "stream",
     "text": [
      "Armstrong numbers in this interval is\n",
      "[1, 2, 3, 4, 5, 6, 7, 8, 9, 153, 370, 371, 407, 1634, 8208, 9474, 54748, 92727, 93084]\n"
     ]
    }
   ],
   "source": [
    "def Find_armstrong(start, end):\n",
    "    l= []\n",
    "    if start and end <= 0:\n",
    "        print(\"Enter only positive integer and second argument should be greater than first argument\")\n",
    "    for i in range(start, end+1):\n",
    "        sum = 0\n",
    "        order = len(str(i))\n",
    "        j = i\n",
    "        while j > 0:\n",
    "            digit= j%10\n",
    "            j = (j-j%10)//10\n",
    "            sum += digit **order\n",
    "        if i == sum:\n",
    "            l.append(i)\n",
    "    print('Armstrong numbers in this interval is')\n",
    "    print(l)\n",
    "        \n",
    "Find_armstrong(1,100000)"
   ]
  },
  {
   "cell_type": "markdown",
   "id": "f01532d1",
   "metadata": {},
   "source": [
    "## 6.\tWrite a Python Program to Find the Sum of Natural Numbers?"
   ]
  },
  {
   "cell_type": "code",
   "execution_count": 36,
   "id": "41f8f277",
   "metadata": {},
   "outputs": [
    {
     "name": "stdout",
     "output_type": "stream",
     "text": [
      "Enter no of terms: 2\n"
     ]
    },
    {
     "data": {
      "text/plain": [
       "3"
      ]
     },
     "execution_count": 36,
     "metadata": {},
     "output_type": "execute_result"
    }
   ],
   "source": [
    "def sum_natural():\n",
    "    n = int(input(\"Enter no of terms: \"))\n",
    "    sum = (n*(n+1))//2\n",
    "    return sum\n",
    "sum_natural()"
   ]
  }
 ],
 "metadata": {
  "kernelspec": {
   "display_name": "Python 3 (ipykernel)",
   "language": "python",
   "name": "python3"
  },
  "language_info": {
   "codemirror_mode": {
    "name": "ipython",
    "version": 3
   },
   "file_extension": ".py",
   "mimetype": "text/x-python",
   "name": "python",
   "nbconvert_exporter": "python",
   "pygments_lexer": "ipython3",
   "version": "3.9.7"
  }
 },
 "nbformat": 4,
 "nbformat_minor": 5
}
