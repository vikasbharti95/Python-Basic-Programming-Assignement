{
 "cells": [
  {
   "cell_type": "markdown",
   "id": "137d6545",
   "metadata": {},
   "source": [
    "## 1.\tWrite a Python program to print \"Hello Python\"?"
   ]
  },
  {
   "cell_type": "code",
   "execution_count": 1,
   "id": "75e363ba",
   "metadata": {},
   "outputs": [
    {
     "name": "stdout",
     "output_type": "stream",
     "text": [
      "Hello Python\n"
     ]
    }
   ],
   "source": [
    "x = \"Hello Python\"\n",
    "print(x)"
   ]
  },
  {
   "cell_type": "markdown",
   "id": "6219a032",
   "metadata": {},
   "source": [
    "## 2.\tWrite a Python program to do arithmetical operations addition and division.?"
   ]
  },
  {
   "cell_type": "code",
   "execution_count": 2,
   "id": "9abadb3b",
   "metadata": {},
   "outputs": [
    {
     "name": "stdout",
     "output_type": "stream",
     "text": [
      "85\n",
      "r\n",
      "please enter only integer  invalid literal for int() with base 10: 'r'\n",
      "please enter again:\n",
      "85\n",
      "52\n",
      "you have entered first number  85\n",
      "you have entered second number  52\n",
      "Addition of above two numbers is  137\n"
     ]
    }
   ],
   "source": [
    "def addition_of_two_number() :\n",
    "    try:\n",
    "        first_number= int(input())\n",
    "        second_number= int(input())\n",
    "        addition = first_number+second_number\n",
    "        print(\"you have entered first number \", first_number)\n",
    "        print(\"you have entered second number \", second_number)\n",
    "        print(\"Addition of above two numbers is \", addition)\n",
    "    except Exception as e:\n",
    "        print(\"please enter only integer85 \", e)\n",
    "        print(\"please enter again:\")\n",
    "        addition_of_two_number()\n",
    "    \n",
    "addition_of_two_number()"
   ]
  },
  {
   "cell_type": "code",
   "execution_count": 6,
   "id": "1143b4c0",
   "metadata": {},
   "outputs": [
    {
     "name": "stdout",
     "output_type": "stream",
     "text": [
      "Enter a dividend no 785\n",
      "Enter a divisor no0\n",
      "There is an error of: division by zero\n",
      "please enter again:\n",
      "Enter a dividend no 784\n",
      "Enter a divisor nodfg\n",
      "There is an error of: invalid literal for int() with base 10: 'dfg'\n",
      "please enter again:\n",
      "Enter a dividend no 78\n",
      "Enter a divisor no56\n",
      "you have entered dividend-  78\n",
      "you have entered divisor-  56\n",
      "Division of above two number is-  1.3928571428571428\n"
     ]
    }
   ],
   "source": [
    "def Division_of_two_number():\n",
    "    try:\n",
    "        dividend= int(input(\"Enter a dividend no \"))\n",
    "        divisor= int(input(\"Enter a divisor no\"))\n",
    "        division = dividend/divisor\n",
    "        print(\"you have entered dividend- \", dividend)\n",
    "        print(\"you have entered divisor- \", divisor)\n",
    "        print(\"Division of above two number is- \",division )\n",
    "    except Exception as e:\n",
    "        print(f\"There is an error of: {e}\")\n",
    "        print(\"please enter again:\")\n",
    "        Division_of_two_number()\n",
    "        \n",
    "Division_of_two_number()\n",
    "        "
   ]
  },
  {
   "cell_type": "markdown",
   "id": "17b63673",
   "metadata": {},
   "source": [
    "## 3.\tWrite a Python program to find the area of a triangle?"
   ]
  },
  {
   "cell_type": "code",
   "execution_count": 21,
   "id": "8af4c656",
   "metadata": {},
   "outputs": [
    {
     "name": "stdout",
     "output_type": "stream",
     "text": [
      "Enter first side of the triangle: 3\n",
      "Enter second side of the triangle: 4\n",
      "Enter Third side of the triangle: 5\n",
      "Area of the triangle is: 6.0\n"
     ]
    }
   ],
   "source": [
    "def Area_of_triangle():\n",
    "    try:\n",
    "        side1= int(input(\"Enter first side of the triangle: \"))\n",
    "        side2= int(input(\"Enter second side of the triangle: \"))\n",
    "        side3= int(input(\"Enter Third side of the triangle: \"))\n",
    "        s = (side1+side2+side3)/2\n",
    "        area = (s*(s-side1)*(s-side2)*(s-side3))**0.5\n",
    "        print(f\"Area of the triangle is: {area}\")\n",
    "    except Exception as e:\n",
    "        print(f\"there is an error of: {e}\")\n",
    "        print(\"please entere again\")\n",
    "        Area_of_triangle()\n",
    "        \n",
    "Area_of_triangle()"
   ]
  },
  {
   "cell_type": "markdown",
   "id": "d756cf84",
   "metadata": {},
   "source": [
    "## 4.\tWrite a Python program to swap two variables?"
   ]
  },
  {
   "cell_type": "code",
   "execution_count": 2,
   "id": "2d015b95",
   "metadata": {},
   "outputs": [
    {
     "name": "stdout",
     "output_type": "stream",
     "text": [
      "Enter a number for variable a: 78\n",
      "Enter a number for variable b: 98\n",
      "No after awapping: a=98, b= 78\n"
     ]
    }
   ],
   "source": [
    "a = int(input(\"Enter a number for variable a: \"))\n",
    "b = int(input(\"Enter a number for variable b: \"))\n",
    "temp = a\n",
    "a = b\n",
    "b = temp\n",
    "print(f\"No after awapping: a={a}, b= {b}\")"
   ]
  },
  {
   "cell_type": "markdown",
   "id": "1378b729",
   "metadata": {},
   "source": [
    "## 5.\tWrite a Python program to generate a random number?"
   ]
  },
  {
   "cell_type": "code",
   "execution_count": 6,
   "id": "788b79ec",
   "metadata": {},
   "outputs": [
    {
     "name": "stdout",
     "output_type": "stream",
     "text": [
      "122923\n"
     ]
    }
   ],
   "source": [
    "import random as rand\n",
    "print(rand.randint(0, 1000000))"
   ]
  }
 ],
 "metadata": {
  "kernelspec": {
   "display_name": "Python 3 (ipykernel)",
   "language": "python",
   "name": "python3"
  },
  "language_info": {
   "codemirror_mode": {
    "name": "ipython",
    "version": 3
   },
   "file_extension": ".py",
   "mimetype": "text/x-python",
   "name": "python",
   "nbconvert_exporter": "python",
   "pygments_lexer": "ipython3",
   "version": "3.9.7"
  }
 },
 "nbformat": 4,
 "nbformat_minor": 5
}
